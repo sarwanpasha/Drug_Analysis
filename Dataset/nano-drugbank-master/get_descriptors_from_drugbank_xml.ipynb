{
 "cells": [
  {
   "cell_type": "code",
   "execution_count": 1,
   "metadata": {
    "collapsed": true
   },
   "outputs": [],
   "source": [
    "import untangle\n",
    "import pandas as pd\n",
    "import numpy as np\n",
    "import os"
   ]
  },
  {
   "cell_type": "code",
   "execution_count": 2,
   "metadata": {
    "collapsed": true
   },
   "outputs": [],
   "source": [
    "### Parsing Drugbank XML"
   ]
  },
  {
   "cell_type": "code",
   "execution_count": 3,
   "metadata": {
    "collapsed": true
   },
   "outputs": [],
   "source": [
    "#takes 5 minutes\n",
    "filename=\"drugbank_20160420.xml\" # DrugBank Version 4.5.0 (release date: 2016.04.20) \n",
    "obj=untangle.parse(filename)"
   ]
  },
  {
   "cell_type": "markdown",
   "metadata": {},
   "source": [
    "### Building dataframe of chemical descriptors"
   ]
  },
  {
   "cell_type": "code",
   "execution_count": 4,
   "metadata": {
    "collapsed": false
   },
   "outputs": [
    {
     "data": {
      "text/html": [
       "<div>\n",
       "<table border=\"1\" class=\"dataframe\">\n",
       "  <thead>\n",
       "    <tr style=\"text-align: right;\">\n",
       "      <th></th>\n",
       "      <th>drugbank_id</th>\n",
       "      <th>name</th>\n",
       "      <th>cas</th>\n",
       "      <th>smiles</th>\n",
       "      <th>logP ALOGPS</th>\n",
       "      <th>logP ChemAxon</th>\n",
       "      <th>solubility ALOGPS</th>\n",
       "      <th>pKa (strongest acidic)</th>\n",
       "      <th>pKa (strongest basic)</th>\n",
       "    </tr>\n",
       "  </thead>\n",
       "  <tbody>\n",
       "  </tbody>\n",
       "</table>\n",
       "</div>"
      ],
      "text/plain": [
       "Empty DataFrame\n",
       "Columns: [drugbank_id, name, cas, smiles, logP ALOGPS, logP ChemAxon, solubility ALOGPS, pKa (strongest acidic), pKa (strongest basic)]\n",
       "Index: []"
      ]
     },
     "execution_count": 4,
     "metadata": {},
     "output_type": "execute_result"
    }
   ],
   "source": [
    "#Data Frame of DrugBank Small Molecule Type Drugs\n",
    "df_drugbank_sm=pd.DataFrame(columns=[\"drugbank_id\",\"name\",\"cas\",\"smiles\",\"logP ALOGPS\", \"logP ChemAxon\", \"solubility ALOGPS\", \"pKa (strongest acidic)\", \"pKa (strongest basic)\"])\n",
    "df_drugbank_sm"
   ]
  },
  {
   "cell_type": "code",
   "execution_count": 5,
   "metadata": {
    "collapsed": false,
    "scrolled": true
   },
   "outputs": [],
   "source": [
    "# Takes around 10 minutes to run.\n",
    "i=-1\n",
    "#iterate over drug entries to extract information\n",
    "for drug in obj.drugbank.drug:\n",
    "    drug_type= str(drug[\"type\"])\n",
    "    \n",
    "    # select for small molecule drugs\n",
    "    if drug_type in [\"small molecule\", \"Small Molecule\", \"Small molecule\"]:\n",
    "        i=i+1    \n",
    "        \n",
    "        #Get drugbank_id\n",
    "        for id in drug.drugbank_id:\n",
    "            if str(id[\"primary\"])==\"true\":\n",
    "                df_drugbank_sm.loc[i, \"drugbank_id\"]=id.cdata\n",
    "        #Drug name\n",
    "        df_drugbank_sm.loc[i,\"name\"]=drug.name.cdata\n",
    "        \n",
    "        #Drug CAS\n",
    "        df_drugbank_sm.loc[i, \"cas\"]=drug.cas_number.cdata\n",
    "        \n",
    "        #Get SMILES, logP, Solubility\n",
    "        #Skip drugs with no structure. (\"DB00386\",\"DB00407\",\"DB00702\",\"DB00785\",\"DB00840\",\n",
    "        #                                            \"DB00893\",\"DB00930\",\"DB00965\", \"DB01109\",\"DB01266\",\n",
    "        #                                           \"DB01323\", \"DB01341\"...)\n",
    "        if len(drug.calculated_properties.cdata)==0: #If there is no calculated properties\n",
    "            continue\n",
    "        else:\n",
    "            for property in drug.calculated_properties.property:\n",
    "                if property.kind.cdata == \"SMILES\":\n",
    "                    df_drugbank_sm.loc[i, \"smiles\"]=property.value.cdata\n",
    "                    \n",
    "                if property.kind.cdata == \"logP\":\n",
    "                    if property.source.cdata == \"ALOGPS\":\n",
    "                        df_drugbank_sm.loc[i, \"logP ALOGPS\"]=property.value.cdata\n",
    "                    if property.source.cdata == \"ChemAxon\":\n",
    "                        df_drugbank_sm.loc[i, \"logP ChemAxon\"]=property.value.cdata\n",
    "                \n",
    "                if property.kind.cdata == \"Water Solubility\":\n",
    "                    df_drugbank_sm.loc[i, \"solubility ALOGPS\"]=property.value.cdata\n",
    "                \n",
    "                if property.kind.cdata == \"pKa (strongest acidic)\":\n",
    "                    df_drugbank_sm.loc[i, \"pKa (strongest acidic)\"]=property.value.cdata\n",
    "                \n",
    "                if property.kind.cdata == \"pKa (strongest basic)\":\n",
    "                    df_drugbank_sm.loc[i, \"pKa (strongest basic)\"]=property.value.cdata\n",
    "            "
   ]
  },
  {
   "cell_type": "code",
   "execution_count": 6,
   "metadata": {
    "collapsed": false
   },
   "outputs": [
    {
     "data": {
      "text/html": [
       "<div>\n",
       "<table border=\"1\" class=\"dataframe\">\n",
       "  <thead>\n",
       "    <tr style=\"text-align: right;\">\n",
       "      <th></th>\n",
       "      <th>drugbank_id</th>\n",
       "      <th>name</th>\n",
       "      <th>cas</th>\n",
       "      <th>smiles</th>\n",
       "      <th>logP ALOGPS</th>\n",
       "      <th>logP ChemAxon</th>\n",
       "      <th>solubility ALOGPS</th>\n",
       "      <th>pKa (strongest acidic)</th>\n",
       "      <th>pKa (strongest basic)</th>\n",
       "    </tr>\n",
       "  </thead>\n",
       "  <tbody>\n",
       "    <tr>\n",
       "      <th>0</th>\n",
       "      <td>DB00006</td>\n",
       "      <td>Bivalirudin</td>\n",
       "      <td>128270-60-0</td>\n",
       "      <td>CC[C@H](C)[C@H](NC(=O)[C@H](CCC(O)=O)NC(=O)[C@...</td>\n",
       "      <td>-0.76</td>\n",
       "      <td>-14</td>\n",
       "      <td>4.64e-02 g/l</td>\n",
       "      <td>2.79</td>\n",
       "      <td>11.88</td>\n",
       "    </tr>\n",
       "    <tr>\n",
       "      <th>1</th>\n",
       "      <td>DB00014</td>\n",
       "      <td>Goserelin</td>\n",
       "      <td>65807-02-5</td>\n",
       "      <td>CC(C)C[C@H](NC(=O)[C@@H](COC(C)(C)C)NC(=O)[C@H...</td>\n",
       "      <td>0.3</td>\n",
       "      <td>-5.2</td>\n",
       "      <td>2.83e-02 g/l</td>\n",
       "      <td>9.27</td>\n",
       "      <td>10.82</td>\n",
       "    </tr>\n",
       "    <tr>\n",
       "      <th>2</th>\n",
       "      <td>DB00035</td>\n",
       "      <td>Desmopressin</td>\n",
       "      <td>16679-58-6</td>\n",
       "      <td>NC(=O)CC[C@@H]1NC(=O)[C@H](CC2=CC=CC=C2)NC(=O)...</td>\n",
       "      <td>-1</td>\n",
       "      <td>-6.1</td>\n",
       "      <td>1.10e-01 g/l</td>\n",
       "      <td>9.5</td>\n",
       "      <td>11.77</td>\n",
       "    </tr>\n",
       "    <tr>\n",
       "      <th>3</th>\n",
       "      <td>DB00050</td>\n",
       "      <td>Cetrorelix</td>\n",
       "      <td>120287-85-6</td>\n",
       "      <td>CC(C)C[C@H](NC(=O)[C@@H](CCCNC(N)=O)NC(=O)[C@H...</td>\n",
       "      <td>1.33</td>\n",
       "      <td>-1.7</td>\n",
       "      <td>6.94e-03 g/l</td>\n",
       "      <td>9.49</td>\n",
       "      <td>11.11</td>\n",
       "    </tr>\n",
       "    <tr>\n",
       "      <th>4</th>\n",
       "      <td>DB00091</td>\n",
       "      <td>Cyclosporine</td>\n",
       "      <td>59865-13-3</td>\n",
       "      <td>CCC1NC(=O)C(C(O)C(C)C\\C=C\\C)N(C)C(=O)C(C(C)C)N...</td>\n",
       "      <td>4.37</td>\n",
       "      <td>6.92</td>\n",
       "      <td>5.81e-03 g/l</td>\n",
       "      <td>3.69</td>\n",
       "      <td>1.94</td>\n",
       "    </tr>\n",
       "    <tr>\n",
       "      <th>5</th>\n",
       "      <td>DB00093</td>\n",
       "      <td>Felypressin</td>\n",
       "      <td>56-59-7</td>\n",
       "      <td>NCCCC[C@H](NC(=O)[C@@H]1CCCN1C(=O)[C@@H]1CSSC[...</td>\n",
       "      <td>-1.1</td>\n",
       "      <td>-5.8</td>\n",
       "      <td>4.53e-02 g/l</td>\n",
       "      <td>11.39</td>\n",
       "      <td>10.18</td>\n",
       "    </tr>\n",
       "    <tr>\n",
       "      <th>6</th>\n",
       "      <td>DB00104</td>\n",
       "      <td>Octreotide</td>\n",
       "      <td>83150-76-9</td>\n",
       "      <td>C[C@@H](O)[C@@H](CO)NC(=O)[C@@H]1CSSC[C@H](NC(...</td>\n",
       "      <td>0.42</td>\n",
       "      <td>-1.4</td>\n",
       "      <td>1.22e-02 g/l</td>\n",
       "      <td>11.4</td>\n",
       "      <td>10.17</td>\n",
       "    </tr>\n",
       "    <tr>\n",
       "      <th>7</th>\n",
       "      <td>DB00114</td>\n",
       "      <td>Pyridoxal Phosphate</td>\n",
       "      <td>54-47-7</td>\n",
       "      <td>CC1=NC=C(COP(O)(O)=O)C(C=O)=C1O</td>\n",
       "      <td>-0.55</td>\n",
       "      <td>-2.1</td>\n",
       "      <td>5.70e+00 g/l</td>\n",
       "      <td>1.68</td>\n",
       "      <td>4.11</td>\n",
       "    </tr>\n",
       "    <tr>\n",
       "      <th>8</th>\n",
       "      <td>DB00115</td>\n",
       "      <td>Cyanocobalamin</td>\n",
       "      <td>68-19-9</td>\n",
       "      <td>OC[C@H]1O[C@@H]([C@H](O)[C@@H]1OP(O)(=O)O[C@](...</td>\n",
       "      <td>1.87</td>\n",
       "      <td>NaN</td>\n",
       "      <td>3.84e-02 g/l</td>\n",
       "      <td>1.84</td>\n",
       "      <td>8.77</td>\n",
       "    </tr>\n",
       "    <tr>\n",
       "      <th>9</th>\n",
       "      <td>DB00116</td>\n",
       "      <td>Tetrahydrofolic acid</td>\n",
       "      <td>135-16-0</td>\n",
       "      <td>NC1=NC(=O)C2=C(NCC(CNC3=CC=C(C=C3)C(=O)N[C@@H]...</td>\n",
       "      <td>-0.96</td>\n",
       "      <td>-4.2</td>\n",
       "      <td>2.69e-01 g/l</td>\n",
       "      <td>3.51</td>\n",
       "      <td>3.58</td>\n",
       "    </tr>\n",
       "  </tbody>\n",
       "</table>\n",
       "</div>"
      ],
      "text/plain": [
       "  drugbank_id                  name          cas  \\\n",
       "0     DB00006           Bivalirudin  128270-60-0   \n",
       "1     DB00014             Goserelin   65807-02-5   \n",
       "2     DB00035          Desmopressin   16679-58-6   \n",
       "3     DB00050            Cetrorelix  120287-85-6   \n",
       "4     DB00091          Cyclosporine   59865-13-3   \n",
       "5     DB00093           Felypressin      56-59-7   \n",
       "6     DB00104            Octreotide   83150-76-9   \n",
       "7     DB00114   Pyridoxal Phosphate      54-47-7   \n",
       "8     DB00115        Cyanocobalamin      68-19-9   \n",
       "9     DB00116  Tetrahydrofolic acid     135-16-0   \n",
       "\n",
       "                                              smiles logP ALOGPS  \\\n",
       "0  CC[C@H](C)[C@H](NC(=O)[C@H](CCC(O)=O)NC(=O)[C@...       -0.76   \n",
       "1  CC(C)C[C@H](NC(=O)[C@@H](COC(C)(C)C)NC(=O)[C@H...         0.3   \n",
       "2  NC(=O)CC[C@@H]1NC(=O)[C@H](CC2=CC=CC=C2)NC(=O)...          -1   \n",
       "3  CC(C)C[C@H](NC(=O)[C@@H](CCCNC(N)=O)NC(=O)[C@H...        1.33   \n",
       "4  CCC1NC(=O)C(C(O)C(C)C\\C=C\\C)N(C)C(=O)C(C(C)C)N...        4.37   \n",
       "5  NCCCC[C@H](NC(=O)[C@@H]1CCCN1C(=O)[C@@H]1CSSC[...        -1.1   \n",
       "6  C[C@@H](O)[C@@H](CO)NC(=O)[C@@H]1CSSC[C@H](NC(...        0.42   \n",
       "7                    CC1=NC=C(COP(O)(O)=O)C(C=O)=C1O       -0.55   \n",
       "8  OC[C@H]1O[C@@H]([C@H](O)[C@@H]1OP(O)(=O)O[C@](...        1.87   \n",
       "9  NC1=NC(=O)C2=C(NCC(CNC3=CC=C(C=C3)C(=O)N[C@@H]...       -0.96   \n",
       "\n",
       "  logP ChemAxon solubility ALOGPS pKa (strongest acidic) pKa (strongest basic)  \n",
       "0           -14      4.64e-02 g/l                   2.79                 11.88  \n",
       "1          -5.2      2.83e-02 g/l                   9.27                 10.82  \n",
       "2          -6.1      1.10e-01 g/l                    9.5                 11.77  \n",
       "3          -1.7      6.94e-03 g/l                   9.49                 11.11  \n",
       "4          6.92      5.81e-03 g/l                   3.69                  1.94  \n",
       "5          -5.8      4.53e-02 g/l                  11.39                 10.18  \n",
       "6          -1.4      1.22e-02 g/l                   11.4                 10.17  \n",
       "7          -2.1      5.70e+00 g/l                   1.68                  4.11  \n",
       "8           NaN      3.84e-02 g/l                   1.84                  8.77  \n",
       "9          -4.2      2.69e-01 g/l                   3.51                  3.58  "
      ]
     },
     "execution_count": 6,
     "metadata": {},
     "output_type": "execute_result"
    }
   ],
   "source": [
    "df_drugbank_sm.head(10)"
   ]
  },
  {
   "cell_type": "code",
   "execution_count": 7,
   "metadata": {
    "collapsed": false,
    "scrolled": true
   },
   "outputs": [
    {
     "name": "stdout",
     "output_type": "stream",
     "text": [
      "(7863, 9)\n"
     ]
    }
   ],
   "source": [
    "print df_drugbank_sm.shape"
   ]
  },
  {
   "cell_type": "code",
   "execution_count": 8,
   "metadata": {
    "collapsed": false,
    "scrolled": true
   },
   "outputs": [
    {
     "name": "stdout",
     "output_type": "stream",
     "text": [
      "(5653, 9)\n"
     ]
    }
   ],
   "source": [
    "#Drop drugs without SMILES from the dataframe\n",
    "df_drugbank_smiles = df_drugbank_sm.dropna()\n",
    "df_drugbank_smiles= df_drugbank_smiles.reset_index(drop=True)\n",
    "print(df_drugbank_smiles.shape)"
   ]
  },
  {
   "cell_type": "markdown",
   "metadata": {
    "collapsed": true
   },
   "source": [
    "### Counting Substructures for NHISS descriptor"
   ]
  },
  {
   "cell_type": "code",
   "execution_count": 9,
   "metadata": {
    "collapsed": true
   },
   "outputs": [],
   "source": [
    "#This section requires using OpenEye OEChem library, version 2.0.5. "
   ]
  },
  {
   "cell_type": "code",
   "execution_count": 10,
   "metadata": {
    "collapsed": false
   },
   "outputs": [
    {
     "data": {
      "text/html": [
       "<div>\n",
       "<table border=\"1\" class=\"dataframe\">\n",
       "  <thead>\n",
       "    <tr style=\"text-align: right;\">\n",
       "      <th></th>\n",
       "      <th>drugbank_id</th>\n",
       "      <th>name</th>\n",
       "      <th>cas</th>\n",
       "      <th>smiles</th>\n",
       "      <th>logP ALOGPS</th>\n",
       "      <th>logP ChemAxon</th>\n",
       "      <th>solubility ALOGPS</th>\n",
       "      <th>pKa (strongest acidic)</th>\n",
       "      <th>pKa (strongest basic)</th>\n",
       "      <th>F</th>\n",
       "      <th>carbonyl</th>\n",
       "      <th>sulfinyl</th>\n",
       "      <th>sulfonyl</th>\n",
       "      <th>nitroso</th>\n",
       "      <th>nitro</th>\n",
       "    </tr>\n",
       "  </thead>\n",
       "  <tbody>\n",
       "    <tr>\n",
       "      <th>0</th>\n",
       "      <td>DB00006</td>\n",
       "      <td>Bivalirudin</td>\n",
       "      <td>128270-60-0</td>\n",
       "      <td>CC[C@H](C)[C@H](NC(=O)[C@H](CCC(O)=O)NC(=O)[C@...</td>\n",
       "      <td>-0.76</td>\n",
       "      <td>-14</td>\n",
       "      <td>4.64e-02 g/l</td>\n",
       "      <td>2.79</td>\n",
       "      <td>11.88</td>\n",
       "      <td>None</td>\n",
       "      <td>None</td>\n",
       "      <td>None</td>\n",
       "      <td>None</td>\n",
       "      <td>None</td>\n",
       "      <td>None</td>\n",
       "    </tr>\n",
       "    <tr>\n",
       "      <th>1</th>\n",
       "      <td>DB00014</td>\n",
       "      <td>Goserelin</td>\n",
       "      <td>65807-02-5</td>\n",
       "      <td>CC(C)C[C@H](NC(=O)[C@@H](COC(C)(C)C)NC(=O)[C@H...</td>\n",
       "      <td>0.3</td>\n",
       "      <td>-5.2</td>\n",
       "      <td>2.83e-02 g/l</td>\n",
       "      <td>9.27</td>\n",
       "      <td>10.82</td>\n",
       "      <td>None</td>\n",
       "      <td>None</td>\n",
       "      <td>None</td>\n",
       "      <td>None</td>\n",
       "      <td>None</td>\n",
       "      <td>None</td>\n",
       "    </tr>\n",
       "    <tr>\n",
       "      <th>2</th>\n",
       "      <td>DB00035</td>\n",
       "      <td>Desmopressin</td>\n",
       "      <td>16679-58-6</td>\n",
       "      <td>NC(=O)CC[C@@H]1NC(=O)[C@H](CC2=CC=CC=C2)NC(=O)...</td>\n",
       "      <td>-1</td>\n",
       "      <td>-6.1</td>\n",
       "      <td>1.10e-01 g/l</td>\n",
       "      <td>9.5</td>\n",
       "      <td>11.77</td>\n",
       "      <td>None</td>\n",
       "      <td>None</td>\n",
       "      <td>None</td>\n",
       "      <td>None</td>\n",
       "      <td>None</td>\n",
       "      <td>None</td>\n",
       "    </tr>\n",
       "    <tr>\n",
       "      <th>3</th>\n",
       "      <td>DB00050</td>\n",
       "      <td>Cetrorelix</td>\n",
       "      <td>120287-85-6</td>\n",
       "      <td>CC(C)C[C@H](NC(=O)[C@@H](CCCNC(N)=O)NC(=O)[C@H...</td>\n",
       "      <td>1.33</td>\n",
       "      <td>-1.7</td>\n",
       "      <td>6.94e-03 g/l</td>\n",
       "      <td>9.49</td>\n",
       "      <td>11.11</td>\n",
       "      <td>None</td>\n",
       "      <td>None</td>\n",
       "      <td>None</td>\n",
       "      <td>None</td>\n",
       "      <td>None</td>\n",
       "      <td>None</td>\n",
       "    </tr>\n",
       "    <tr>\n",
       "      <th>4</th>\n",
       "      <td>DB00091</td>\n",
       "      <td>Cyclosporine</td>\n",
       "      <td>59865-13-3</td>\n",
       "      <td>CCC1NC(=O)C(C(O)C(C)C\\C=C\\C)N(C)C(=O)C(C(C)C)N...</td>\n",
       "      <td>4.37</td>\n",
       "      <td>6.92</td>\n",
       "      <td>5.81e-03 g/l</td>\n",
       "      <td>3.69</td>\n",
       "      <td>1.94</td>\n",
       "      <td>None</td>\n",
       "      <td>None</td>\n",
       "      <td>None</td>\n",
       "      <td>None</td>\n",
       "      <td>None</td>\n",
       "      <td>None</td>\n",
       "    </tr>\n",
       "  </tbody>\n",
       "</table>\n",
       "</div>"
      ],
      "text/plain": [
       "  drugbank_id          name          cas  \\\n",
       "0     DB00006   Bivalirudin  128270-60-0   \n",
       "1     DB00014     Goserelin   65807-02-5   \n",
       "2     DB00035  Desmopressin   16679-58-6   \n",
       "3     DB00050    Cetrorelix  120287-85-6   \n",
       "4     DB00091  Cyclosporine   59865-13-3   \n",
       "\n",
       "                                              smiles logP ALOGPS  \\\n",
       "0  CC[C@H](C)[C@H](NC(=O)[C@H](CCC(O)=O)NC(=O)[C@...       -0.76   \n",
       "1  CC(C)C[C@H](NC(=O)[C@@H](COC(C)(C)C)NC(=O)[C@H...         0.3   \n",
       "2  NC(=O)CC[C@@H]1NC(=O)[C@H](CC2=CC=CC=C2)NC(=O)...          -1   \n",
       "3  CC(C)C[C@H](NC(=O)[C@@H](CCCNC(N)=O)NC(=O)[C@H...        1.33   \n",
       "4  CCC1NC(=O)C(C(O)C(C)C\\C=C\\C)N(C)C(=O)C(C(C)C)N...        4.37   \n",
       "\n",
       "  logP ChemAxon solubility ALOGPS pKa (strongest acidic)  \\\n",
       "0           -14      4.64e-02 g/l                   2.79   \n",
       "1          -5.2      2.83e-02 g/l                   9.27   \n",
       "2          -6.1      1.10e-01 g/l                    9.5   \n",
       "3          -1.7      6.94e-03 g/l                   9.49   \n",
       "4          6.92      5.81e-03 g/l                   3.69   \n",
       "\n",
       "  pKa (strongest basic)     F carbonyl sulfinyl sulfonyl nitroso nitro  \n",
       "0                 11.88  None     None     None     None    None  None  \n",
       "1                 10.82  None     None     None     None    None  None  \n",
       "2                 11.77  None     None     None     None    None  None  \n",
       "3                 11.11  None     None     None     None    None  None  \n",
       "4                  1.94  None     None     None     None    None  None  "
      ]
     },
     "execution_count": 10,
     "metadata": {},
     "output_type": "execute_result"
    }
   ],
   "source": [
    "df_drugbank_smiles.loc[:,\"F\"] = None\n",
    "df_drugbank_smiles.loc[:,\"carbonyl\"] = None\n",
    "df_drugbank_smiles.loc[:,\"sulfinyl\"] = None\n",
    "df_drugbank_smiles.loc[:,\"sulfonyl\"] = None\n",
    "df_drugbank_smiles.loc[:,\"nitroso\"] = None\n",
    "df_drugbank_smiles.loc[:,\"nitro\"] = None\n",
    "df_drugbank_smiles.head()"
   ]
  },
  {
   "cell_type": "code",
   "execution_count": 11,
   "metadata": {
    "collapsed": false
   },
   "outputs": [],
   "source": [
    "#write to csv\n",
    "df_drugbank_smiles.to_csv(\"df_drugbank_smiles.csv\", encoding='utf-8')"
   ]
  },
  {
   "cell_type": "code",
   "execution_count": 12,
   "metadata": {
    "collapsed": false
   },
   "outputs": [
    {
     "name": "stdout",
     "output_type": "stream",
     "text": [
      "Done.\n",
      "Done.\n",
      "Done.\n",
      "Done\n",
      "Done.\n",
      "Done.\n"
     ]
    }
   ],
   "source": [
    "# Run the following to populate the dataframe from terminal (runs faster):\n",
    "import os\n",
    "%run count_carbonyls.py\n",
    "%run count_fluorines.py\n",
    "%run count_sulfinyls.py\n",
    "%run count_sulfonyls.py\n",
    "%run count_nitroso.py\n",
    "%run count_nitro.py"
   ]
  }
 ],
 "metadata": {
  "kernelspec": {
   "display_name": "Python 2",
   "language": "python",
   "name": "python2"
  },
  "language_info": {
   "codemirror_mode": {
    "name": "ipython",
    "version": 2
   },
   "file_extension": ".py",
   "mimetype": "text/x-python",
   "name": "python",
   "nbconvert_exporter": "python",
   "pygments_lexer": "ipython2",
   "version": "2.7.11"
  }
 },
 "nbformat": 4,
 "nbformat_minor": 0
}
